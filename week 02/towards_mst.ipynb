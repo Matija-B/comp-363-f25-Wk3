{
 "cells": [
  {
   "cell_type": "markdown",
   "id": "625a54e7",
   "metadata": {},
   "source": [
    "# Setting up for Borůvka's algorithm\n",
    "\n",
    "To implement Borůvka's algorithm, we'll need to count the components of a graph and label its vertices according to the componenet they belong. To count (and eventually label) the components of a graph we'll need to find which vertices in a graph are reachable from a given vertex.\n",
    "\n",
    "To test our algorithms we'll use a graph with six vertices. The graph has two components. One component with vertex $\\{2\\}$ and one component with the remaining vertices $\\{0,1,3,4,5\\}$.\n",
    "\n",
    "![](./SimpleGraph.png)\n",
    "\n",
    "The adjacency matrix $G$ of the graph is shown below.\n"
   ]
  },
  {
   "cell_type": "code",
   "execution_count": null,
   "id": "e30cc834",
   "metadata": {},
   "outputs": [],
   "source": [
    "_ = float('inf')\n",
    "\n",
    "G = [\n",
    "    [_, 1, _, 1, _, _],  # vertex 0's neighbors\n",
    "    [1, _, _, 1, _, 1],  # vertex 1's neighbors\n",
    "    [_, _, _, _, _, _],  # vertex 2's neighbors\n",
    "    [1, 1, _, _, _, 1],  # vertex 3's neighbors\n",
    "    [_, _, _, _, _, 1],  # vertex 4's neighbors\n",
    "    [_, 1, _, 1, 1, _]  # vertex 5's neighbors\n",
    "]"
   ]
  },
  {
   "cell_type": "markdown",
   "id": "c47fcf53",
   "metadata": {},
   "source": [
    "The **reachability** of a vertex $s$ is the set of all vertices that can be reached from $s$ following any available path. For example, vertex 5 in $G$ can be reached from vertex 1 either directly via the edge $(1,5)$ or via the path comprises the edges $(1,3)$ and $(4,5)$.\n",
    "\n",
    "The main challenge, when traversing a graph is to be able to trace back out footsteps. That's because we often arrive a vertices with multiple edges and we can only follow one edge at a time. After we follow that edge to where ever it may lead, we need to come back to its starting vertex and explore the remaining edges.\n",
    "\n",
    "Algorithmically, we need a data structure to keep track of what edges to pursue next. This can be a simple data structure and none is simpler than a humble array.\n"
   ]
  },
  {
   "cell_type": "markdown",
   "id": "6b2d0cf4",
   "metadata": {},
   "source": [
    "Consider for example the situation in below. We arrive at the green vertex and we have two choices to follow: either the edge to the blue vertex or the edge to the red one.\n",
    "\n",
    "![](./rgb.png)"
   ]
  },
  {
   "cell_type": "code",
   "execution_count": 14,
   "id": "590eacf3",
   "metadata": {},
   "outputs": [],
   "source": [
    "def reachability_of(s: int, G) -> list[int]:\n",
    "    local_infinity = G[0][0]\n",
    "    reach = []  # return object\n",
    "    bag = [s]  # place to store which vertex to process next\n",
    "    while bag:  # shorcut to while len(bag) > 0, ie bag not empty\n",
    "        v = bag.pop(0)\n",
    "        if v not in reach:\n",
    "            reach.append(v)\n",
    "            # add v's neighbors to the bag\n",
    "            for u in range(len(G)):\n",
    "                if G[v][u] != local_infinity:\n",
    "                    bag.append(u)\n",
    "    return reach"
   ]
  },
  {
   "cell_type": "code",
   "execution_count": 15,
   "id": "c8dec0ee",
   "metadata": {},
   "outputs": [
    {
     "name": "stdout",
     "output_type": "stream",
     "text": [
      "[1, 0, 3, 5, 4]\n"
     ]
    }
   ],
   "source": [
    "print(reachability_of(1, G))"
   ]
  },
  {
   "cell_type": "code",
   "execution_count": 16,
   "id": "a1372f8c",
   "metadata": {},
   "outputs": [],
   "source": [
    "def reachability_of_recursive(s: int, G, reach) -> list[int]:\n",
    "    local_infinity = G[0][0]\n",
    "    if s not in reach:\n",
    "        reach.append(s)\n",
    "        for u in range(len(G)):\n",
    "            if G[s][u] != local_infinity:\n",
    "                reachability_of_recursive(u, G, reach)\n",
    "    return reach"
   ]
  },
  {
   "cell_type": "code",
   "execution_count": 17,
   "id": "0d565a55",
   "metadata": {},
   "outputs": [
    {
     "name": "stdout",
     "output_type": "stream",
     "text": [
      "[1, 0, 3, 5, 4]\n"
     ]
    }
   ],
   "source": [
    "print(reachability_of_recursive(1, G, []))"
   ]
  }
 ],
 "metadata": {
  "kernelspec": {
   "display_name": "Python 3",
   "language": "python",
   "name": "python3"
  },
  "language_info": {
   "codemirror_mode": {
    "name": "ipython",
    "version": 3
   },
   "file_extension": ".py",
   "mimetype": "text/x-python",
   "name": "python",
   "nbconvert_exporter": "python",
   "pygments_lexer": "ipython3",
   "version": "3.11.13"
  }
 },
 "nbformat": 4,
 "nbformat_minor": 5
}
