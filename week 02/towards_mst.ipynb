{
 "cells": [
  {
   "cell_type": "code",
   "execution_count": null,
   "id": "e30cc834",
   "metadata": {},
   "outputs": [],
   "source": [
    "_ = float('inf')\n",
    "\n",
    "G = [\n",
    "    [_, 1, _, 1, _, _],\n",
    "    [1, _, _, 1, _, 1],\n",
    "    [_, _, _, _, _, _],\n",
    "    [1, 1, _, _, _, 1],\n",
    "    [_, _, _, _, _, 1],\n",
    "    [_, 1, _, 1, 1, _]\n",
    "]"
   ]
  },
  {
   "cell_type": "code",
   "execution_count": null,
   "id": "590eacf3",
   "metadata": {},
   "outputs": [],
   "source": [
    "def reachability_of(s: int, G) -> list[int]:\n",
    "    local_infinity = G[0][0]\n",
    "    reach = []  # return object\n",
    "    bag = [s]  # place to store which vertex to process next\n",
    "    while bag:  # shorcut to while len(bag) > 0, ie bag not empty\n",
    "        v = bag.remove()\n",
    "        if v not in reach:\n",
    "            reach.append(v)\n",
    "            # add v's neighbors to the bag\n",
    "            for u in range(len(G)):\n",
    "                if G[v][u] != local_infinity:\n",
    "                    bag.append(u)\n",
    "    return reach"
   ]
  },
  {
   "cell_type": "code",
   "execution_count": null,
   "id": "c8dec0ee",
   "metadata": {},
   "outputs": [],
   "source": []
  }
 ],
 "metadata": {
  "kernelspec": {
   "display_name": "Python 3",
   "language": "python",
   "name": "python3"
  },
  "language_info": {
   "name": "python",
   "version": "3.11.13"
  }
 },
 "nbformat": 4,
 "nbformat_minor": 5
}
