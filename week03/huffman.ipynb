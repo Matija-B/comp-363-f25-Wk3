{
 "cells": [
  {
   "cell_type": "code",
   "execution_count": 32,
   "id": "543f109d",
   "metadata": {},
   "outputs": [],
   "source": [
    "class Node:\n",
    "\n",
    "    def __init__(self, frequency, symbol=None):\n",
    "        self.__frequency = frequency\n",
    "        self.__symbol = symbol\n",
    "        self.__left = None\n",
    "        self.__right = None\n",
    "\n",
    "    def set_left(self, child):\n",
    "        self.__left = child\n",
    "\n",
    "    def set_right(self, child):\n",
    "        self.__right = child\n",
    "\n",
    "    def __lt__(self, other):\n",
    "        return self.__frequency < other.__frequency\n",
    "\n",
    "    def get_frequency(self) -> int:\n",
    "        return self.__frequency\n",
    "\n",
    "    def get_symbol(self) -> chr:\n",
    "        return self.__symbol\n",
    "    \n",
    "    def __str__(self):   \n",
    "            return f\"({self.__symbol}:{self.__frequency})\"\n",
    "     \n",
    "        \n",
    "    def __repr__(self):\n",
    "        return self.__str__()\n",
    "    \n",
    "    def get_left(self): return self.__left\n",
    "    def get_right(self): return self.__right"
   ]
  },
  {
   "cell_type": "code",
   "execution_count": 33,
   "id": "f00e197c",
   "metadata": {},
   "outputs": [],
   "source": [
    "message_to_compress = \"HELLO WORLD\"\n",
    "ASCII_SYMBOLS: int = 256\n",
    "\n",
    "\n",
    "def frequency_of_symbols(message: str) -> list[int]:\n",
    "    frequencies = [0] * ASCII_SYMBOLS\n",
    "    for char in message:\n",
    "        ascii_value = ord(char)\n",
    "        frequencies[ascii_value] += 1\n",
    "    return frequencies\n",
    "\n",
    "\n",
    "def filter_uppercase_and_spaces(input_string):\n",
    "    return ''.join([char for char in input_string if char.isupper() or char == ' '])\n",
    "\n",
    "\n",
    "def create_forest(frequencies):\n",
    "    \"\"\"Take a list of frequencies and produce a list of nodes from it.\n",
    "    Every item in the input list contains a symbol and its frequency.\"\"\"\n",
    "    forest = []  # return item\n",
    "    # Iterate over the input list\n",
    "    for ascii in range(len(frequencies)):\n",
    "        if frequencies[ascii] > 0:\n",
    "            # Create a node for this symbol and its frequency\n",
    "            new_node = Node(frequencies[ascii], chr(ascii))\n",
    "            forest.append(new_node)\n",
    "    return forest\n",
    "\n",
    "\n",
    "def get_smallest(forest):\n",
    "    smallest_index = 0\n",
    "    for i in range(1, len(forest)):\n",
    "        if forest[i] < forest[smallest_index]:\n",
    "            smallest_index = i\n",
    "    return forest.pop(smallest_index)\n",
    "\n",
    "\n",
    "def huffman(forest):\n",
    "    while len(forest) > 1:\n",
    "        s1 = get_smallest(forest)\n",
    "        s2 = get_smallest(forest)\n",
    "        new_node = Node(s1.get_frequency()+s2.get_frequency())\n",
    "        new_node.set_left(s1)\n",
    "        new_node.set_right(s2)\n",
    "        forest.append(new_node)\n",
    "    return forest[0]"
   ]
  },
  {
   "cell_type": "code",
   "execution_count": 38,
   "id": "f8f73731",
   "metadata": {},
   "outputs": [
    {
     "name": "stdout",
     "output_type": "stream",
     "text": [
      "[0, 0, 0, 0, 0, 0, 0, 0, 0, 0, 0, 0, 0, 0, 0, 0, 0, 0, 0, 0, 0, 0, 0, 0, 0, 0, 0, 0, 0, 0, 0, 0, 1, 0, 0, 0, 0, 0, 0, 0, 0, 0, 0, 0, 0, 0, 0, 0, 0, 0, 0, 0, 0, 0, 0, 0, 0, 0, 0, 0, 0, 0, 0, 0, 0, 0, 0, 0, 1, 1, 0, 0, 1, 0, 0, 0, 3, 0, 0, 2, 0, 0, 1, 0, 0, 0, 0, 1, 0, 0, 0, 0, 0, 0, 0, 0, 0, 0, 0, 0, 0, 0, 0, 0, 0, 0, 0, 0, 0, 0, 0, 0, 0, 0, 0, 0, 0, 0, 0, 0, 0, 0, 0, 0, 0, 0, 0, 0, 0, 0, 0, 0, 0, 0, 0, 0, 0, 0, 0, 0, 0, 0, 0, 0, 0, 0, 0, 0, 0, 0, 0, 0, 0, 0, 0, 0, 0, 0, 0, 0, 0, 0, 0, 0, 0, 0, 0, 0, 0, 0, 0, 0, 0, 0, 0, 0, 0, 0, 0, 0, 0, 0, 0, 0, 0, 0, 0, 0, 0, 0, 0, 0, 0, 0, 0, 0, 0, 0, 0, 0, 0, 0, 0, 0, 0, 0, 0, 0, 0, 0, 0, 0, 0, 0, 0, 0, 0, 0, 0, 0, 0, 0, 0, 0, 0, 0, 0, 0, 0, 0, 0, 0, 0, 0, 0, 0, 0, 0, 0, 0, 0, 0, 0, 0, 0, 0, 0, 0, 0, 0, 0, 0, 0, 0, 0, 0]\n",
      "[( :1), (D:1), (E:1), (H:1), (L:3), (O:2), (R:1), (W:1)]\n",
      "(H:1)\n"
     ]
    }
   ],
   "source": [
    "frequencies = frequency_of_symbols(message_to_compress)\n",
    "print(frequencies)\n",
    "forest = create_forest(frequencies)\n",
    "print(forest)\n",
    "huffman_tree = huffman(forest)\n",
    "print(huffman_tree.get_left().get_left().get_right())"
   ]
  }
 ],
 "metadata": {
  "kernelspec": {
   "display_name": "Python 3",
   "language": "python",
   "name": "python3"
  },
  "language_info": {
   "codemirror_mode": {
    "name": "ipython",
    "version": 3
   },
   "file_extension": ".py",
   "mimetype": "text/x-python",
   "name": "python",
   "nbconvert_exporter": "python",
   "pygments_lexer": "ipython3",
   "version": "3.11.13"
  }
 },
 "nbformat": 4,
 "nbformat_minor": 5
}
